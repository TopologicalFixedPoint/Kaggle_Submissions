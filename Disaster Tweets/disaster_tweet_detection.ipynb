{
 "cells": [
  {
   "cell_type": "code",
   "execution_count": 1,
   "id": "initial_id",
   "metadata": {
    "collapsed": true,
    "ExecuteTime": {
     "end_time": "2024-12-10T12:07:31.800992Z",
     "start_time": "2024-12-10T12:07:20.906775Z"
    }
   },
   "outputs": [],
   "source": [
    "import pandas as pd\n",
    "import numpy as np\n",
    "import matplotlib.pyplot as plt\n",
    "import tensorflow.keras as keras"
   ]
  },
  {
   "cell_type": "code",
   "outputs": [],
   "source": [
    "#The data is downloaded locally from Kaggle https://www.kaggle.com/c/nlp-getting-started/data\n",
    "train_df = pd.read_csv('./data/train.csv',keep_default_na=False)\n",
    "test_df = pd.read_csv('./data/test.csv',keep_default_na=False)"
   ],
   "metadata": {
    "collapsed": false,
    "ExecuteTime": {
     "end_time": "2024-12-10T12:07:32.428496Z",
     "start_time": "2024-12-10T12:07:31.802004Z"
    }
   },
   "id": "62608507ff3fe03d",
   "execution_count": 2
  },
  {
   "cell_type": "code",
   "outputs": [
    {
     "name": "stdout",
     "output_type": "stream",
     "text": [
      "7613\n"
     ]
    },
    {
     "data": {
      "text/plain": "   id keyword location                                               text  \\\n0   1                   Our Deeds are the Reason of this #earthquake M...   \n1   4                              Forest fire near La Ronge Sask. Canada   \n2   5                   All residents asked to 'shelter in place' are ...   \n3   6                   13,000 people receive #wildfires evacuation or...   \n4   7                   Just got sent this photo from Ruby #Alaska as ...   \n\n   target  \n0       1  \n1       1  \n2       1  \n3       1  \n4       1  ",
      "text/html": "<div>\n<style scoped>\n    .dataframe tbody tr th:only-of-type {\n        vertical-align: middle;\n    }\n\n    .dataframe tbody tr th {\n        vertical-align: top;\n    }\n\n    .dataframe thead th {\n        text-align: right;\n    }\n</style>\n<table border=\"1\" class=\"dataframe\">\n  <thead>\n    <tr style=\"text-align: right;\">\n      <th></th>\n      <th>id</th>\n      <th>keyword</th>\n      <th>location</th>\n      <th>text</th>\n      <th>target</th>\n    </tr>\n  </thead>\n  <tbody>\n    <tr>\n      <th>0</th>\n      <td>1</td>\n      <td></td>\n      <td></td>\n      <td>Our Deeds are the Reason of this #earthquake M...</td>\n      <td>1</td>\n    </tr>\n    <tr>\n      <th>1</th>\n      <td>4</td>\n      <td></td>\n      <td></td>\n      <td>Forest fire near La Ronge Sask. Canada</td>\n      <td>1</td>\n    </tr>\n    <tr>\n      <th>2</th>\n      <td>5</td>\n      <td></td>\n      <td></td>\n      <td>All residents asked to 'shelter in place' are ...</td>\n      <td>1</td>\n    </tr>\n    <tr>\n      <th>3</th>\n      <td>6</td>\n      <td></td>\n      <td></td>\n      <td>13,000 people receive #wildfires evacuation or...</td>\n      <td>1</td>\n    </tr>\n    <tr>\n      <th>4</th>\n      <td>7</td>\n      <td></td>\n      <td></td>\n      <td>Just got sent this photo from Ruby #Alaska as ...</td>\n      <td>1</td>\n    </tr>\n  </tbody>\n</table>\n</div>"
     },
     "execution_count": 3,
     "metadata": {},
     "output_type": "execute_result"
    }
   ],
   "source": [
    "#get the first rows of the training data to get a sense of the structure of the data.\n",
    "print(len(train_df))\n",
    "train_df.head()"
   ],
   "metadata": {
    "collapsed": false,
    "ExecuteTime": {
     "end_time": "2024-12-10T12:07:32.437219Z",
     "start_time": "2024-12-10T12:07:32.428496Z"
    }
   },
   "id": "cd16b93cbad669fc",
   "execution_count": 3
  },
  {
   "cell_type": "code",
   "outputs": [
    {
     "data": {
      "text/plain": "id           int64\nkeyword     object\nlocation    object\ntext        object\ntarget       int64\ndtype: object"
     },
     "execution_count": 4,
     "metadata": {},
     "output_type": "execute_result"
    }
   ],
   "source": [
    "#It looks like the data comprises an id primary key, keyword and location of the tweet which may be empty and the text of the tweet itself\n",
    "train_df.dtypes"
   ],
   "metadata": {
    "collapsed": false,
    "ExecuteTime": {
     "end_time": "2024-12-10T12:07:32.440872Z",
     "start_time": "2024-12-10T12:07:32.437219Z"
    }
   },
   "id": "7b01378c59b4ffa0",
   "execution_count": 4
  },
  {
   "cell_type": "code",
   "outputs": [
    {
     "data": {
      "text/plain": "keyword\n                         61\nfatalities               45\ndeluge                   42\narmageddon               42\nsinking                  41\n                         ..\nforest%20fire            19\nepicentre                12\nthreat                   11\ninundation               10\nradiation%20emergency     9\nName: count, Length: 222, dtype: int64"
     },
     "execution_count": 5,
     "metadata": {},
     "output_type": "execute_result"
    }
   ],
   "source": [
    "#Based on the count of keywords the distribution is fairly uniform with few records without a keyword.\n",
    "train_df.keyword.value_counts()"
   ],
   "metadata": {
    "collapsed": false,
    "ExecuteTime": {
     "end_time": "2024-12-10T12:07:32.445761Z",
     "start_time": "2024-12-10T12:07:32.441879Z"
    }
   },
   "id": "dbe9b3d98509925",
   "execution_count": 5
  },
  {
   "cell_type": "code",
   "outputs": [
    {
     "data": {
      "text/plain": "location\n                                2533\nUSA                              104\nNew York                          71\nUnited States                     50\nLondon                            45\n                                ... \nSurulere Lagos,Home Of Swagg       1\nMontrÌ©al, QuÌ©bec                 1\nMontreal                           1\nÌÏT: 6.4682,3.18287                1\nLincoln                            1\nName: count, Length: 3342, dtype: int64"
     },
     "execution_count": 6,
     "metadata": {},
     "output_type": "execute_result"
    }
   ],
   "source": [
    "#Based on the count, a large amount of records are missing a location so that field can be dropped\n",
    "train_df.location.value_counts()"
   ],
   "metadata": {
    "collapsed": false,
    "ExecuteTime": {
     "end_time": "2024-12-10T12:07:32.450848Z",
     "start_time": "2024-12-10T12:07:32.445761Z"
    }
   },
   "id": "6a671193d12ecfab",
   "execution_count": 6
  },
  {
   "cell_type": "markdown",
   "source": [],
   "metadata": {
    "collapsed": false
   },
   "id": "151f4dea429d70cc"
  },
  {
   "cell_type": "code",
   "outputs": [],
   "source": [
    "#Creating the x and y that will be fed to the model, in order to utilize the text vectorization layer the keyword is appended to the text field.\n",
    "train_x_df = train_df[\"text\"].str.cat(train_df[\"keyword\"],sep=' ')\n",
    "train_y_df = train_df[\"target\"]"
   ],
   "metadata": {
    "collapsed": false,
    "ExecuteTime": {
     "end_time": "2024-12-10T12:07:32.471363Z",
     "start_time": "2024-12-10T12:07:32.450848Z"
    }
   },
   "id": "8c33a2550e2019e7",
   "execution_count": 7
  },
  {
   "cell_type": "code",
   "outputs": [],
   "source": [
    "#Create a textvectorization layer and feeding it the text data to create a vocabulary for the model to use\n",
    "text_vectorizer = keras.layers.TextVectorization(max_tokens=25000, output_mode='int', output_sequence_length=750)\n",
    "text_vectorizer.adapt(train_x_df)"
   ],
   "metadata": {
    "collapsed": false,
    "ExecuteTime": {
     "end_time": "2024-12-10T12:07:32.569985Z",
     "start_time": "2024-12-10T12:07:32.471490Z"
    }
   },
   "id": "c915b49c7ccd442f",
   "execution_count": 8
  },
  {
   "cell_type": "code",
   "outputs": [],
   "source": [
    "#The model will use the Twitter GloVe Embeddings found at https://nlp.stanford.edu/projects/glove/\n",
    "vocabulary = text_vectorizer.get_vocabulary()\n",
    "word_count = len(vocabulary) + 2\n",
    "embedding_dim = 200\n"
   ],
   "metadata": {
    "collapsed": false,
    "ExecuteTime": {
     "end_time": "2024-12-10T12:07:32.597023Z",
     "start_time": "2024-12-10T12:07:32.570999Z"
    }
   },
   "id": "6e42591e0168453d",
   "execution_count": 9
  },
  {
   "cell_type": "code",
   "outputs": [],
   "source": [
    "#Getting the embeddings for 200 dimensions from the downloaded text file and saving them in a dict\n",
    "glove_embeddings = {}\n",
    "with open(\"./data/glove.twitter.27B/glove.twitter.27B.200d.txt\", encoding=\"utf8\") as glove_file:\n",
    "    for line in glove_file:\n",
    "        word,coefs = line.split(maxsplit=1)\n",
    "        coefs = np.fromstring(coefs, \"f\", sep=\" \")\n",
    "        glove_embeddings[word] = coefs\n"
   ],
   "metadata": {
    "collapsed": false,
    "ExecuteTime": {
     "end_time": "2024-12-10T12:08:15.919447Z",
     "start_time": "2024-12-10T12:07:32.597023Z"
    }
   },
   "id": "bad5acef2e5d28d4",
   "execution_count": 10
  },
  {
   "cell_type": "code",
   "outputs": [],
   "source": [
    "#Creating an embedding matrix to load later in an embedding layer\n",
    "glove_embeddings_matrix = np.zeros((word_count, embedding_dim))\n",
    "i = 0\n",
    "for word in vocabulary:\n",
    "    glove_embedding = glove_embeddings.get(word)\n",
    "    if glove_embedding is not None:\n",
    "        glove_embeddings_matrix[i] = glove_embedding\n",
    "    i += 1"
   ],
   "metadata": {
    "collapsed": false,
    "ExecuteTime": {
     "end_time": "2024-12-10T12:08:15.947645Z",
     "start_time": "2024-12-10T12:08:15.920459Z"
    }
   },
   "id": "901234344011e98",
   "execution_count": 11
  },
  {
   "cell_type": "code",
   "outputs": [],
   "source": [
    "#Create the embedding layer that the model will use\n",
    "embedding_layer = keras.layers.Embedding(word_count, embedding_dim, trainable=False)\n",
    "embedding_layer.build((1,))\n",
    "embedding_layer.set_weights([glove_embeddings_matrix])"
   ],
   "metadata": {
    "collapsed": false,
    "ExecuteTime": {
     "end_time": "2024-12-10T12:08:15.980871Z",
     "start_time": "2024-12-10T12:08:15.947701Z"
    }
   },
   "id": "e103638ac5d8929d",
   "execution_count": 12
  },
  {
   "cell_type": "code",
   "outputs": [],
   "source": [
    "#Build an RNN model utilizing the vectorization + embedding layers. 2 LSTM layers are used before an output neuron gets the prediction. F1 score is used as a metric as the kaggle competition utilizes F1 score\n",
    "model = keras.Sequential(\n",
    "    [\n",
    "        text_vectorizer,\n",
    "        embedding_layer,\n",
    "        keras.layers.Bidirectional(keras.layers.LSTM(16, return_sequences=True, dropout=0.25, recurrent_dropout=0.25)),\n",
    "        keras.layers.Bidirectional(keras.layers.LSTM(16, dropout=0.25, recurrent_dropout=0.25)),\n",
    "        keras.layers.Dense(1, activation='sigmoid')\n",
    "    ]\n",
    ")\n",
    "model.compile(optimizer=keras.optimizers.Adam(clipnorm=0.5), loss=\"binary_crossentropy\", metrics=[\"f1_score\",\"accuracy\"])"
   ],
   "metadata": {
    "collapsed": false,
    "ExecuteTime": {
     "end_time": "2024-12-10T12:08:16.003359Z",
     "start_time": "2024-12-10T12:08:15.981035Z"
    }
   },
   "id": "d512203ce34b8df6",
   "execution_count": 13
  },
  {
   "cell_type": "code",
   "outputs": [
    {
     "name": "stdout",
     "output_type": "stream",
     "text": [
      "Epoch 1/20\n",
      "\u001B[1m238/238\u001B[0m \u001B[32m━━━━━━━━━━━━━━━━━━━━\u001B[0m\u001B[37m\u001B[0m \u001B[1m42s\u001B[0m 163ms/step - accuracy: 0.7058 - f1_score: 0.5943 - loss: 0.5846\n",
      "Epoch 2/20\n",
      "\u001B[1m238/238\u001B[0m \u001B[32m━━━━━━━━━━━━━━━━━━━━\u001B[0m\u001B[37m\u001B[0m \u001B[1m41s\u001B[0m 172ms/step - accuracy: 0.7984 - f1_score: 0.6015 - loss: 0.4593\n",
      "Epoch 3/20\n",
      "\u001B[1m238/238\u001B[0m \u001B[32m━━━━━━━━━━━━━━━━━━━━\u001B[0m\u001B[37m\u001B[0m \u001B[1m43s\u001B[0m 181ms/step - accuracy: 0.8080 - f1_score: 0.5910 - loss: 0.4345\n",
      "Epoch 4/20\n",
      "\u001B[1m238/238\u001B[0m \u001B[32m━━━━━━━━━━━━━━━━━━━━\u001B[0m\u001B[37m\u001B[0m \u001B[1m43s\u001B[0m 179ms/step - accuracy: 0.8047 - f1_score: 0.5975 - loss: 0.4316\n",
      "Epoch 5/20\n",
      "\u001B[1m238/238\u001B[0m \u001B[32m━━━━━━━━━━━━━━━━━━━━\u001B[0m\u001B[37m\u001B[0m \u001B[1m42s\u001B[0m 176ms/step - accuracy: 0.8121 - f1_score: 0.6018 - loss: 0.4192\n",
      "Epoch 6/20\n",
      "\u001B[1m238/238\u001B[0m \u001B[32m━━━━━━━━━━━━━━━━━━━━\u001B[0m\u001B[37m\u001B[0m \u001B[1m42s\u001B[0m 176ms/step - accuracy: 0.8349 - f1_score: 0.6004 - loss: 0.3910\n",
      "Epoch 7/20\n",
      "\u001B[1m238/238\u001B[0m \u001B[32m━━━━━━━━━━━━━━━━━━━━\u001B[0m\u001B[37m\u001B[0m \u001B[1m41s\u001B[0m 173ms/step - accuracy: 0.8294 - f1_score: 0.6026 - loss: 0.3991\n",
      "Epoch 8/20\n",
      "\u001B[1m238/238\u001B[0m \u001B[32m━━━━━━━━━━━━━━━━━━━━\u001B[0m\u001B[37m\u001B[0m \u001B[1m43s\u001B[0m 179ms/step - accuracy: 0.8177 - f1_score: 0.6032 - loss: 0.4127\n",
      "Epoch 9/20\n",
      "\u001B[1m238/238\u001B[0m \u001B[32m━━━━━━━━━━━━━━━━━━━━\u001B[0m\u001B[37m\u001B[0m \u001B[1m42s\u001B[0m 175ms/step - accuracy: 0.8284 - f1_score: 0.6015 - loss: 0.3901\n",
      "Epoch 10/20\n",
      "\u001B[1m238/238\u001B[0m \u001B[32m━━━━━━━━━━━━━━━━━━━━\u001B[0m\u001B[37m\u001B[0m \u001B[1m51s\u001B[0m 214ms/step - accuracy: 0.8339 - f1_score: 0.5913 - loss: 0.3773\n",
      "Epoch 11/20\n",
      "\u001B[1m238/238\u001B[0m \u001B[32m━━━━━━━━━━━━━━━━━━━━\u001B[0m\u001B[37m\u001B[0m \u001B[1m58s\u001B[0m 245ms/step - accuracy: 0.8351 - f1_score: 0.6032 - loss: 0.3759\n",
      "Epoch 12/20\n",
      "\u001B[1m238/238\u001B[0m \u001B[32m━━━━━━━━━━━━━━━━━━━━\u001B[0m\u001B[37m\u001B[0m \u001B[1m56s\u001B[0m 235ms/step - accuracy: 0.8416 - f1_score: 0.6036 - loss: 0.3715\n",
      "Epoch 13/20\n",
      "\u001B[1m238/238\u001B[0m \u001B[32m━━━━━━━━━━━━━━━━━━━━\u001B[0m\u001B[37m\u001B[0m \u001B[1m62s\u001B[0m 261ms/step - accuracy: 0.8449 - f1_score: 0.5992 - loss: 0.3626\n",
      "Epoch 14/20\n",
      "\u001B[1m238/238\u001B[0m \u001B[32m━━━━━━━━━━━━━━━━━━━━\u001B[0m\u001B[37m\u001B[0m \u001B[1m65s\u001B[0m 273ms/step - accuracy: 0.8483 - f1_score: 0.6032 - loss: 0.3636\n",
      "Epoch 15/20\n",
      "\u001B[1m238/238\u001B[0m \u001B[32m━━━━━━━━━━━━━━━━━━━━\u001B[0m\u001B[37m\u001B[0m \u001B[1m58s\u001B[0m 244ms/step - accuracy: 0.8570 - f1_score: 0.6015 - loss: 0.3396\n",
      "Epoch 16/20\n",
      "\u001B[1m238/238\u001B[0m \u001B[32m━━━━━━━━━━━━━━━━━━━━\u001B[0m\u001B[37m\u001B[0m \u001B[1m57s\u001B[0m 239ms/step - accuracy: 0.8607 - f1_score: 0.6015 - loss: 0.3446\n",
      "Epoch 17/20\n",
      "\u001B[1m238/238\u001B[0m \u001B[32m━━━━━━━━━━━━━━━━━━━━\u001B[0m\u001B[37m\u001B[0m \u001B[1m53s\u001B[0m 223ms/step - accuracy: 0.8606 - f1_score: 0.5992 - loss: 0.3352\n",
      "Epoch 18/20\n",
      "\u001B[1m238/238\u001B[0m \u001B[32m━━━━━━━━━━━━━━━━━━━━\u001B[0m\u001B[37m\u001B[0m \u001B[1m46s\u001B[0m 192ms/step - accuracy: 0.8635 - f1_score: 0.5941 - loss: 0.3304\n",
      "Epoch 19/20\n",
      "\u001B[1m238/238\u001B[0m \u001B[32m━━━━━━━━━━━━━━━━━━━━\u001B[0m\u001B[37m\u001B[0m \u001B[1m43s\u001B[0m 179ms/step - accuracy: 0.8697 - f1_score: 0.6012 - loss: 0.3207\n",
      "Epoch 20/20\n",
      "\u001B[1m238/238\u001B[0m \u001B[32m━━━━━━━━━━━━━━━━━━━━\u001B[0m\u001B[37m\u001B[0m \u001B[1m43s\u001B[0m 179ms/step - accuracy: 0.8635 - f1_score: 0.6007 - loss: 0.3285\n"
     ]
    },
    {
     "data": {
      "text/plain": "<keras.src.callbacks.history.History at 0x131b8ab6d10>"
     },
     "execution_count": 14,
     "metadata": {},
     "output_type": "execute_result"
    }
   ],
   "source": [
    "model.fit(train_x_df,train_y_df,epochs=20)"
   ],
   "metadata": {
    "collapsed": false,
    "ExecuteTime": {
     "end_time": "2024-12-10T12:24:25.468414Z",
     "start_time": "2024-12-10T12:08:16.004367Z"
    }
   },
   "id": "71b31c8db532b364",
   "execution_count": 14
  },
  {
   "cell_type": "code",
   "outputs": [],
   "source": [
    "#Creating a second model that is shallow and has more neurons\n",
    "model2 = keras.Sequential(\n",
    "    [\n",
    "        text_vectorizer,\n",
    "        embedding_layer,\n",
    "        keras.layers.Bidirectional(keras.layers.LSTM(64, dropout=0.25, recurrent_dropout=0.25)),\n",
    "        keras.layers.Dense(1, activation='sigmoid')\n",
    "    ]\n",
    ")\n",
    "model2.compile(optimizer=keras.optimizers.Adam(clipnorm=0.5), loss=\"binary_crossentropy\", metrics=[\"f1_score\",\"accuracy\"])"
   ],
   "metadata": {
    "collapsed": false,
    "ExecuteTime": {
     "end_time": "2024-12-10T15:26:39.207748Z",
     "start_time": "2024-12-10T15:26:39.195100Z"
    }
   },
   "id": "d0bef717a5b9bdf0",
   "execution_count": 35
  },
  {
   "cell_type": "code",
   "outputs": [
    {
     "name": "stdout",
     "output_type": "stream",
     "text": [
      "Epoch 1/15\n",
      "\u001B[1m238/238\u001B[0m \u001B[32m━━━━━━━━━━━━━━━━━━━━\u001B[0m\u001B[37m\u001B[0m \u001B[1m107s\u001B[0m 440ms/step - accuracy: 0.7131 - f1_score: 0.6034 - loss: 0.5594\n",
      "Epoch 2/15\n",
      "\u001B[1m238/238\u001B[0m \u001B[32m━━━━━━━━━━━━━━━━━━━━\u001B[0m\u001B[37m\u001B[0m \u001B[1m105s\u001B[0m 439ms/step - accuracy: 0.7989 - f1_score: 0.6124 - loss: 0.4489\n",
      "Epoch 3/15\n",
      "\u001B[1m238/238\u001B[0m \u001B[32m━━━━━━━━━━━━━━━━━━━━\u001B[0m\u001B[37m\u001B[0m \u001B[1m104s\u001B[0m 436ms/step - accuracy: 0.8120 - f1_score: 0.6013 - loss: 0.4204\n",
      "Epoch 4/15\n",
      "\u001B[1m238/238\u001B[0m \u001B[32m━━━━━━━━━━━━━━━━━━━━\u001B[0m\u001B[37m\u001B[0m \u001B[1m104s\u001B[0m 437ms/step - accuracy: 0.8107 - f1_score: 0.5983 - loss: 0.4245\n",
      "Epoch 5/15\n",
      "\u001B[1m238/238\u001B[0m \u001B[32m━━━━━━━━━━━━━━━━━━━━\u001B[0m\u001B[37m\u001B[0m \u001B[1m105s\u001B[0m 441ms/step - accuracy: 0.8195 - f1_score: 0.5984 - loss: 0.4048\n",
      "Epoch 6/15\n",
      "\u001B[1m238/238\u001B[0m \u001B[32m━━━━━━━━━━━━━━━━━━━━\u001B[0m\u001B[37m\u001B[0m \u001B[1m104s\u001B[0m 438ms/step - accuracy: 0.8336 - f1_score: 0.5961 - loss: 0.3901\n",
      "Epoch 7/15\n",
      "\u001B[1m238/238\u001B[0m \u001B[32m━━━━━━━━━━━━━━━━━━━━\u001B[0m\u001B[37m\u001B[0m \u001B[1m104s\u001B[0m 437ms/step - accuracy: 0.8333 - f1_score: 0.6105 - loss: 0.3828\n",
      "Epoch 8/15\n",
      "\u001B[1m238/238\u001B[0m \u001B[32m━━━━━━━━━━━━━━━━━━━━\u001B[0m\u001B[37m\u001B[0m \u001B[1m105s\u001B[0m 439ms/step - accuracy: 0.8433 - f1_score: 0.5978 - loss: 0.3668\n",
      "Epoch 9/15\n",
      "\u001B[1m238/238\u001B[0m \u001B[32m━━━━━━━━━━━━━━━━━━━━\u001B[0m\u001B[37m\u001B[0m \u001B[1m105s\u001B[0m 440ms/step - accuracy: 0.8408 - f1_score: 0.6069 - loss: 0.3641\n",
      "Epoch 10/15\n",
      "\u001B[1m238/238\u001B[0m \u001B[32m━━━━━━━━━━━━━━━━━━━━\u001B[0m\u001B[37m\u001B[0m \u001B[1m105s\u001B[0m 439ms/step - accuracy: 0.8564 - f1_score: 0.6028 - loss: 0.3408\n",
      "Epoch 11/15\n",
      "\u001B[1m238/238\u001B[0m \u001B[32m━━━━━━━━━━━━━━━━━━━━\u001B[0m\u001B[37m\u001B[0m \u001B[1m105s\u001B[0m 440ms/step - accuracy: 0.8497 - f1_score: 0.5968 - loss: 0.3470\n",
      "Epoch 12/15\n",
      "\u001B[1m238/238\u001B[0m \u001B[32m━━━━━━━━━━━━━━━━━━━━\u001B[0m\u001B[37m\u001B[0m \u001B[1m105s\u001B[0m 441ms/step - accuracy: 0.8602 - f1_score: 0.6017 - loss: 0.3272\n",
      "Epoch 13/15\n",
      "\u001B[1m238/238\u001B[0m \u001B[32m━━━━━━━━━━━━━━━━━━━━\u001B[0m\u001B[37m\u001B[0m \u001B[1m135s\u001B[0m 569ms/step - accuracy: 0.8697 - f1_score: 0.6007 - loss: 0.3036\n",
      "Epoch 14/15\n",
      "\u001B[1m238/238\u001B[0m \u001B[32m━━━━━━━━━━━━━━━━━━━━\u001B[0m\u001B[37m\u001B[0m \u001B[1m140s\u001B[0m 589ms/step - accuracy: 0.8681 - f1_score: 0.6131 - loss: 0.3046\n",
      "Epoch 15/15\n",
      "\u001B[1m238/238\u001B[0m \u001B[32m━━━━━━━━━━━━━━━━━━━━\u001B[0m\u001B[37m\u001B[0m \u001B[1m105s\u001B[0m 441ms/step - accuracy: 0.8719 - f1_score: 0.5971 - loss: 0.2983\n"
     ]
    },
    {
     "data": {
      "text/plain": "<keras.src.callbacks.history.History at 0x132d1df7490>"
     },
     "execution_count": 36,
     "metadata": {},
     "output_type": "execute_result"
    }
   ],
   "source": [
    "model2.fit(train_x_df,train_y_df,epochs=15)"
   ],
   "metadata": {
    "collapsed": false,
    "ExecuteTime": {
     "end_time": "2024-12-10T15:53:56.757945Z",
     "start_time": "2024-12-10T15:26:40.158035Z"
    }
   },
   "id": "cbb90207a3a9da63",
   "execution_count": 36
  },
  {
   "cell_type": "code",
   "outputs": [],
   "source": [
    "#Creating a model that is deeper and has more neurons\n",
    "model3 = keras.Sequential(\n",
    "    [\n",
    "        text_vectorizer,\n",
    "        embedding_layer,\n",
    "        keras.layers.Bidirectional(keras.layers.LSTM(64, return_sequences=True, dropout=0.25, recurrent_dropout=0.25)),\n",
    "        keras.layers.Bidirectional(keras.layers.LSTM(32, return_sequences=True, dropout=0.25, recurrent_dropout=0.25)),\n",
    "        keras.layers.Bidirectional(keras.layers.LSTM(32, return_sequences=True, dropout=0.25, recurrent_dropout=0.25)),\n",
    "        keras.layers.Bidirectional(keras.layers.LSTM(16, dropout=0.25, recurrent_dropout=0.25)),\n",
    "        keras.layers.Dense(1, activation='sigmoid')\n",
    "    ]\n",
    ")\n",
    "model3.compile(optimizer=keras.optimizers.Adam(clipnorm=0.5), loss=\"binary_crossentropy\", metrics=[\"f1_score\",\"accuracy\"])"
   ],
   "metadata": {
    "collapsed": false,
    "ExecuteTime": {
     "end_time": "2024-12-10T14:27:06.458892Z",
     "start_time": "2024-12-10T14:27:06.431049Z"
    }
   },
   "id": "16464e29e030af99",
   "execution_count": 33
  },
  {
   "cell_type": "code",
   "outputs": [
    {
     "name": "stdout",
     "output_type": "stream",
     "text": [
      "Epoch 1/15\n",
      "\u001B[1m238/238\u001B[0m \u001B[32m━━━━━━━━━━━━━━━━━━━━\u001B[0m\u001B[37m\u001B[0m \u001B[1m213s\u001B[0m 867ms/step - accuracy: 0.7036 - f1_score: 0.6003 - loss: 0.5801\n",
      "Epoch 2/15\n",
      "\u001B[1m238/238\u001B[0m \u001B[32m━━━━━━━━━━━━━━━━━━━━\u001B[0m\u001B[37m\u001B[0m \u001B[1m196s\u001B[0m 826ms/step - accuracy: 0.7974 - f1_score: 0.6011 - loss: 0.4572\n",
      "Epoch 3/15\n",
      "\u001B[1m238/238\u001B[0m \u001B[32m━━━━━━━━━━━━━━━━━━━━\u001B[0m\u001B[37m\u001B[0m \u001B[1m197s\u001B[0m 828ms/step - accuracy: 0.7992 - f1_score: 0.6077 - loss: 0.4409\n",
      "Epoch 4/15\n",
      "\u001B[1m238/238\u001B[0m \u001B[32m━━━━━━━━━━━━━━━━━━━━\u001B[0m\u001B[37m\u001B[0m \u001B[1m305s\u001B[0m 1s/step - accuracy: 0.8178 - f1_score: 0.5939 - loss: 0.4174\n",
      "Epoch 5/15\n",
      "\u001B[1m238/238\u001B[0m \u001B[32m━━━━━━━━━━━━━━━━━━━━\u001B[0m\u001B[37m\u001B[0m \u001B[1m225s\u001B[0m 947ms/step - accuracy: 0.8132 - f1_score: 0.6012 - loss: 0.4270\n",
      "Epoch 6/15\n",
      "\u001B[1m238/238\u001B[0m \u001B[32m━━━━━━━━━━━━━━━━━━━━\u001B[0m\u001B[37m\u001B[0m \u001B[1m248s\u001B[0m 1s/step - accuracy: 0.8304 - f1_score: 0.5931 - loss: 0.3951\n",
      "Epoch 7/15\n",
      "\u001B[1m238/238\u001B[0m \u001B[32m━━━━━━━━━━━━━━━━━━━━\u001B[0m\u001B[37m\u001B[0m \u001B[1m260s\u001B[0m 1s/step - accuracy: 0.8279 - f1_score: 0.5930 - loss: 0.3899\n",
      "Epoch 8/15\n",
      "\u001B[1m238/238\u001B[0m \u001B[32m━━━━━━━━━━━━━━━━━━━━\u001B[0m\u001B[37m\u001B[0m \u001B[1m235s\u001B[0m 986ms/step - accuracy: 0.8464 - f1_score: 0.6051 - loss: 0.3730\n",
      "Epoch 9/15\n",
      "\u001B[1m238/238\u001B[0m \u001B[32m━━━━━━━━━━━━━━━━━━━━\u001B[0m\u001B[37m\u001B[0m \u001B[1m223s\u001B[0m 938ms/step - accuracy: 0.8424 - f1_score: 0.5970 - loss: 0.3677\n",
      "Epoch 10/15\n",
      "\u001B[1m238/238\u001B[0m \u001B[32m━━━━━━━━━━━━━━━━━━━━\u001B[0m\u001B[37m\u001B[0m \u001B[1m218s\u001B[0m 916ms/step - accuracy: 0.8468 - f1_score: 0.6085 - loss: 0.3662\n",
      "Epoch 11/15\n",
      "\u001B[1m238/238\u001B[0m \u001B[32m━━━━━━━━━━━━━━━━━━━━\u001B[0m\u001B[37m\u001B[0m \u001B[1m197s\u001B[0m 826ms/step - accuracy: 0.8562 - f1_score: 0.6004 - loss: 0.3357\n",
      "Epoch 12/15\n",
      "\u001B[1m238/238\u001B[0m \u001B[32m━━━━━━━━━━━━━━━━━━━━\u001B[0m\u001B[37m\u001B[0m \u001B[1m187s\u001B[0m 787ms/step - accuracy: 0.8592 - f1_score: 0.6083 - loss: 0.3388\n",
      "Epoch 13/15\n",
      "\u001B[1m238/238\u001B[0m \u001B[32m━━━━━━━━━━━━━━━━━━━━\u001B[0m\u001B[37m\u001B[0m \u001B[1m188s\u001B[0m 791ms/step - accuracy: 0.8659 - f1_score: 0.6003 - loss: 0.3249\n",
      "Epoch 14/15\n",
      "\u001B[1m238/238\u001B[0m \u001B[32m━━━━━━━━━━━━━━━━━━━━\u001B[0m\u001B[37m\u001B[0m \u001B[1m189s\u001B[0m 792ms/step - accuracy: 0.8726 - f1_score: 0.5975 - loss: 0.3052\n",
      "Epoch 15/15\n",
      "\u001B[1m238/238\u001B[0m \u001B[32m━━━━━━━━━━━━━━━━━━━━\u001B[0m\u001B[37m\u001B[0m \u001B[1m189s\u001B[0m 794ms/step - accuracy: 0.8724 - f1_score: 0.5907 - loss: 0.3095\n"
     ]
    },
    {
     "data": {
      "text/plain": "<keras.src.callbacks.history.History at 0x1329ef48350>"
     },
     "execution_count": 34,
     "metadata": {},
     "output_type": "execute_result"
    }
   ],
   "source": [
    "model3.fit(train_x_df,train_y_df,epochs=15)"
   ],
   "metadata": {
    "collapsed": false,
    "ExecuteTime": {
     "end_time": "2024-12-10T15:21:39.381134Z",
     "start_time": "2024-12-10T14:27:07.878554Z"
    }
   },
   "id": "87a90364cabb3cc6",
   "execution_count": 34
  },
  {
   "cell_type": "code",
   "outputs": [],
   "source": [
    "#From the loss and accuracy viewpoint both models 2 and 3 are similar in terms of performance. Therefore, both models are valid candidates for the prediction step. However, as model 2 has the better f1 score this is the model that will be selected\n",
    "test_x_df = test_df[\"text\"].str.cat(test_df[\"keyword\"],sep=' ')\n",
    "test_id_df = test_df[\"id\"]"
   ],
   "metadata": {
    "collapsed": false,
    "ExecuteTime": {
     "end_time": "2024-12-10T16:29:23.644870Z",
     "start_time": "2024-12-10T16:29:23.641589Z"
    }
   },
   "id": "94bee0930548e020",
   "execution_count": 63
  },
  {
   "cell_type": "code",
   "outputs": [
    {
     "name": "stdout",
     "output_type": "stream",
     "text": [
      "\u001B[1m102/102\u001B[0m \u001B[32m━━━━━━━━━━━━━━━━━━━━\u001B[0m\u001B[37m\u001B[0m \u001B[1m8s\u001B[0m 76ms/step\n"
     ]
    },
    {
     "data": {
      "text/plain": "(array([721., 454., 280., 244., 191., 149., 127., 122., 152., 823.]),\n array([0.00457749, 0.10411847, 0.20365945, 0.30320042, 0.4027414 ,\n        0.50228238, 0.60182339, 0.70136434, 0.80090535, 0.9004463 ,\n        0.9999873 ]),\n <BarContainer object of 10 artists>)"
     },
     "execution_count": 64,
     "metadata": {},
     "output_type": "execute_result"
    },
    {
     "data": {
      "text/plain": "<Figure size 640x480 with 1 Axes>",
      "image/png": "[encoded data removed]"
     },
     "metadata": {},
     "output_type": "display_data"
    }
   ],
   "source": [
    "plt.hist(model2.predict(test_x_df))"
   ],
   "metadata": {
    "collapsed": false,
    "ExecuteTime": {
     "end_time": "2024-12-10T16:29:34.840991Z",
     "start_time": "2024-12-10T16:29:26.975440Z"
    }
   },
   "id": "ec252d19b97945e8",
   "execution_count": 64
  },
  {
   "cell_type": "code",
   "outputs": [
    {
     "name": "stdout",
     "output_type": "stream",
     "text": [
      "\u001B[1m102/102\u001B[0m \u001B[32m━━━━━━━━━━━━━━━━━━━━\u001B[0m\u001B[37m\u001B[0m \u001B[1m8s\u001B[0m 79ms/step\n"
     ]
    }
   ],
   "source": [
    "predictions = model2.predict(test_x_df)\n",
    "\n",
    "results_df = pd.DataFrame({\"id\":test_id_df,\"target\":[1 if i>0.5 else 0 for i in predictions]})"
   ],
   "metadata": {
    "collapsed": false,
    "ExecuteTime": {
     "end_time": "2024-12-10T16:29:45.738683Z",
     "start_time": "2024-12-10T16:29:37.600762Z"
    }
   },
   "id": "cde223bd89e31d9",
   "execution_count": 65
  },
  {
   "cell_type": "code",
   "outputs": [
    {
     "data": {
      "text/plain": "    id  target\n0    0       1\n1    2       1\n2    3       1\n3    9       1\n4   11       1\n5   12       1\n6   21       0\n7   22       0\n8   27       0\n9   29       0\n10  30       0\n11  35       0\n12  42       0\n13  43       0\n14  45       0",
      "text/html": "<div>\n<style scoped>\n    .dataframe tbody tr th:only-of-type {\n        vertical-align: middle;\n    }\n\n    .dataframe tbody tr th {\n        vertical-align: top;\n    }\n\n    .dataframe thead th {\n        text-align: right;\n    }\n</style>\n<table border=\"1\" class=\"dataframe\">\n  <thead>\n    <tr style=\"text-align: right;\">\n      <th></th>\n      <th>id</th>\n      <th>target</th>\n    </tr>\n  </thead>\n  <tbody>\n    <tr>\n      <th>0</th>\n      <td>0</td>\n      <td>1</td>\n    </tr>\n    <tr>\n      <th>1</th>\n      <td>2</td>\n      <td>1</td>\n    </tr>\n    <tr>\n      <th>2</th>\n      <td>3</td>\n      <td>1</td>\n    </tr>\n    <tr>\n      <th>3</th>\n      <td>9</td>\n      <td>1</td>\n    </tr>\n    <tr>\n      <th>4</th>\n      <td>11</td>\n      <td>1</td>\n    </tr>\n    <tr>\n      <th>5</th>\n      <td>12</td>\n      <td>1</td>\n    </tr>\n    <tr>\n      <th>6</th>\n      <td>21</td>\n      <td>0</td>\n    </tr>\n    <tr>\n      <th>7</th>\n      <td>22</td>\n      <td>0</td>\n    </tr>\n    <tr>\n      <th>8</th>\n      <td>27</td>\n      <td>0</td>\n    </tr>\n    <tr>\n      <th>9</th>\n      <td>29</td>\n      <td>0</td>\n    </tr>\n    <tr>\n      <th>10</th>\n      <td>30</td>\n      <td>0</td>\n    </tr>\n    <tr>\n      <th>11</th>\n      <td>35</td>\n      <td>0</td>\n    </tr>\n    <tr>\n      <th>12</th>\n      <td>42</td>\n      <td>0</td>\n    </tr>\n    <tr>\n      <th>13</th>\n      <td>43</td>\n      <td>0</td>\n    </tr>\n    <tr>\n      <th>14</th>\n      <td>45</td>\n      <td>0</td>\n    </tr>\n  </tbody>\n</table>\n</div>"
     },
     "execution_count": 66,
     "metadata": {},
     "output_type": "execute_result"
    }
   ],
   "source": [
    "results_df.head(15)"
   ],
   "metadata": {
    "collapsed": false,
    "ExecuteTime": {
     "end_time": "2024-12-10T16:29:45.743475Z",
     "start_time": "2024-12-10T16:29:45.739686Z"
    }
   },
   "id": "8447314bf12c4ebc",
   "execution_count": 66
  },
  {
   "cell_type": "code",
   "outputs": [],
   "source": [
    "results_df.to_csv(\"./data/submission.csv\",index=False)"
   ],
   "metadata": {
    "collapsed": false,
    "ExecuteTime": {
     "end_time": "2024-12-10T16:29:45.748326Z",
     "start_time": "2024-12-10T16:29:45.743475Z"
    }
   },
   "id": "a664375ea3d13708",
   "execution_count": 67
  },
  {
   "cell_type": "code",
   "outputs": [],
   "source": [
    "#In conclusion, based on the experiment above more layer does not necessarily result in a better RNN model. Adding more neurons to a shallow network appears to score better.\n",
    "#References\n",
    "#Glove Embeddings: Jeffrey Pennington, Richard Socher, and Christopher D. Manning. 2014. GloVe: Global Vectors for Word Representation.\n",
    "#Glove Twitter Embeddings: https://nlp.stanford.edu/data/glove.twitter.27B.zip\n",
    "#Kaggle NLP Tweet Competition: https://www.kaggle.com/competitions/nlp-getting-started/data\n",
    "#Keras Using pre-trained word embeddings Tutorial: https://keras.io/examples/nlp/pretrained_word_embeddings/#load-pretrained-word-embeddings"
   ],
   "metadata": {
    "collapsed": false,
    "ExecuteTime": {
     "end_time": "2024-12-10T16:34:56.748524Z",
     "start_time": "2024-12-10T16:34:56.746213Z"
    }
   },
   "id": "d4dca1155aca1508",
   "execution_count": 69
  }
 ],
 "metadata": {
  "kernelspec": {
   "display_name": "Python 3",
   "language": "python",
   "name": "python3"
  },
  "language_info": {
   "codemirror_mode": {
    "name": "ipython",
    "version": 2
   },
   "file_extension": ".py",
   "mimetype": "text/x-python",
   "name": "python",
   "nbconvert_exporter": "python",
   "pygments_lexer": "ipython2",
   "version": "2.7.6"
  }
 },
 "nbformat": 4,
 "nbformat_minor": 5
}
